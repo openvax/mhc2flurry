{
 "cells": [
  {
   "cell_type": "code",
   "execution_count": 89,
   "metadata": {},
   "outputs": [],
   "source": [
    "from collections import defaultdict\n",
    "import os\n",
    "import random\n",
    "\n",
    "from datacache import get_data_dir\n",
    "from mhcnames import normalize_allele_name\n",
    "from mhctools import NetMHCIIpan, NetMHCIIpan4_BA\n",
    "\n",
    "import shellinford\n",
    "import numpy as np\n",
    "import pandas as pd\n",
    "from sklearn.linear_model import LogisticRegression\n",
    "from sklearn.model_selection import train_test_split, KFold, cross_val_score\n",
    "from sklearn import metrics, svm\n",
    "\n",
    "from mhc2flurry.downloads import get_path\n",
    "from mhc2flurry.encodable_sequences import EncodableSequences"
   ]
  },
  {
   "cell_type": "code",
   "execution_count": 4,
   "metadata": {},
   "outputs": [
    {
     "data": {
      "text/html": [
       "<div>\n",
       "<style scoped>\n",
       "    .dataframe tbody tr th:only-of-type {\n",
       "        vertical-align: middle;\n",
       "    }\n",
       "\n",
       "    .dataframe tbody tr th {\n",
       "        vertical-align: top;\n",
       "    }\n",
       "\n",
       "    .dataframe thead th {\n",
       "        text-align: right;\n",
       "    }\n",
       "</style>\n",
       "<table border=\"1\" class=\"dataframe\">\n",
       "  <thead>\n",
       "    <tr style=\"text-align: right;\">\n",
       "      <th></th>\n",
       "      <th>pmid</th>\n",
       "      <th>sample_id</th>\n",
       "      <th>peptide</th>\n",
       "      <th>format</th>\n",
       "      <th>mhc_class</th>\n",
       "      <th>hla</th>\n",
       "      <th>expression_dataset</th>\n",
       "      <th>cell_line</th>\n",
       "      <th>intensity</th>\n",
       "      <th>original_pmid</th>\n",
       "      <th>pulldown_antibody</th>\n",
       "      <th>sample_type</th>\n",
       "    </tr>\n",
       "  </thead>\n",
       "  <tbody>\n",
       "    <tr>\n",
       "      <th>0</th>\n",
       "      <td>31495665</td>\n",
       "      <td>MAPTAC_DRB1*12:01_DM-</td>\n",
       "      <td>APVKKLVVKGGKKKKQVLKFTLD</td>\n",
       "      <td>MONOALLELIC</td>\n",
       "      <td>II</td>\n",
       "      <td>HLA-DRA*01:01-DRB1*12:01</td>\n",
       "      <td>cell_line:EXPI293</td>\n",
       "      <td>EXPI293</td>\n",
       "      <td>NaN</td>\n",
       "      <td>31495665</td>\n",
       "      <td>MAPTAC</td>\n",
       "      <td>EXPI293</td>\n",
       "    </tr>\n",
       "    <tr>\n",
       "      <th>1</th>\n",
       "      <td>31495665</td>\n",
       "      <td>MAPTAC_DRB1*12:01_DM-</td>\n",
       "      <td>VPGPGPAPMPSDFQVLRAKY</td>\n",
       "      <td>MONOALLELIC</td>\n",
       "      <td>II</td>\n",
       "      <td>HLA-DRA*01:01-DRB1*12:01</td>\n",
       "      <td>cell_line:EXPI293</td>\n",
       "      <td>EXPI293</td>\n",
       "      <td>NaN</td>\n",
       "      <td>31495665</td>\n",
       "      <td>MAPTAC</td>\n",
       "      <td>EXPI293</td>\n",
       "    </tr>\n",
       "    <tr>\n",
       "      <th>2</th>\n",
       "      <td>31495665</td>\n",
       "      <td>MAPTAC_DRB1*12:01_DM-</td>\n",
       "      <td>IGNLMVSPPVKVQGKE</td>\n",
       "      <td>MONOALLELIC</td>\n",
       "      <td>II</td>\n",
       "      <td>HLA-DRA*01:01-DRB1*12:01</td>\n",
       "      <td>cell_line:EXPI293</td>\n",
       "      <td>EXPI293</td>\n",
       "      <td>NaN</td>\n",
       "      <td>31495665</td>\n",
       "      <td>MAPTAC</td>\n",
       "      <td>EXPI293</td>\n",
       "    </tr>\n",
       "    <tr>\n",
       "      <th>3</th>\n",
       "      <td>31495665</td>\n",
       "      <td>MAPTAC_DRB1*12:01_DM-</td>\n",
       "      <td>ALMGYATHKYLDSEEDEE</td>\n",
       "      <td>MONOALLELIC</td>\n",
       "      <td>II</td>\n",
       "      <td>HLA-DRA*01:01-DRB1*12:01</td>\n",
       "      <td>cell_line:EXPI293</td>\n",
       "      <td>EXPI293</td>\n",
       "      <td>NaN</td>\n",
       "      <td>31495665</td>\n",
       "      <td>MAPTAC</td>\n",
       "      <td>EXPI293</td>\n",
       "    </tr>\n",
       "    <tr>\n",
       "      <th>4</th>\n",
       "      <td>31495665</td>\n",
       "      <td>MAPTAC_DRB1*12:01_DM-</td>\n",
       "      <td>GSDQSENVDRGAGSIREA</td>\n",
       "      <td>MONOALLELIC</td>\n",
       "      <td>II</td>\n",
       "      <td>HLA-DRA*01:01-DRB1*12:01</td>\n",
       "      <td>cell_line:EXPI293</td>\n",
       "      <td>EXPI293</td>\n",
       "      <td>NaN</td>\n",
       "      <td>31495665</td>\n",
       "      <td>MAPTAC</td>\n",
       "      <td>EXPI293</td>\n",
       "    </tr>\n",
       "  </tbody>\n",
       "</table>\n",
       "</div>"
      ],
      "text/plain": [
       "       pmid              sample_id                  peptide       format  \\\n",
       "0  31495665  MAPTAC_DRB1*12:01_DM-  APVKKLVVKGGKKKKQVLKFTLD  MONOALLELIC   \n",
       "1  31495665  MAPTAC_DRB1*12:01_DM-     VPGPGPAPMPSDFQVLRAKY  MONOALLELIC   \n",
       "2  31495665  MAPTAC_DRB1*12:01_DM-         IGNLMVSPPVKVQGKE  MONOALLELIC   \n",
       "3  31495665  MAPTAC_DRB1*12:01_DM-       ALMGYATHKYLDSEEDEE  MONOALLELIC   \n",
       "4  31495665  MAPTAC_DRB1*12:01_DM-       GSDQSENVDRGAGSIREA  MONOALLELIC   \n",
       "\n",
       "  mhc_class                       hla expression_dataset cell_line  intensity  \\\n",
       "0        II  HLA-DRA*01:01-DRB1*12:01  cell_line:EXPI293   EXPI293        NaN   \n",
       "1        II  HLA-DRA*01:01-DRB1*12:01  cell_line:EXPI293   EXPI293        NaN   \n",
       "2        II  HLA-DRA*01:01-DRB1*12:01  cell_line:EXPI293   EXPI293        NaN   \n",
       "3        II  HLA-DRA*01:01-DRB1*12:01  cell_line:EXPI293   EXPI293        NaN   \n",
       "4        II  HLA-DRA*01:01-DRB1*12:01  cell_line:EXPI293   EXPI293        NaN   \n",
       "\n",
       "   original_pmid pulldown_antibody sample_type  \n",
       "0       31495665            MAPTAC     EXPI293  \n",
       "1       31495665            MAPTAC     EXPI293  \n",
       "2       31495665            MAPTAC     EXPI293  \n",
       "3       31495665            MAPTAC     EXPI293  \n",
       "4       31495665            MAPTAC     EXPI293  "
      ]
     },
     "execution_count": 4,
     "metadata": {},
     "output_type": "execute_result"
    }
   ],
   "source": [
    "train_ms_df = pd.read_csv(get_path(\"data_curated\", \"ms.by_pmid.csv.bz2\"))\n",
    "train_ms_df = train_ms_df.loc[\n",
    "    (train_ms_df.mhc_class == \"II\") &\n",
    "    (train_ms_df.format == \"MONOALLELIC\")\n",
    "]\n",
    "train_ms_df.head()"
   ]
  },
  {
   "cell_type": "code",
   "execution_count": 5,
   "metadata": {},
   "outputs": [],
   "source": [
    "# restrict to DRB1*01:01\n",
    "use_train_ms_df = train_ms_df.loc[\n",
    "    (train_ms_df.hla == 'HLA-DRA*01:01-DRB1*01:01') &\n",
    "    (train_ms_df['peptide'].str.len() == 15)\n",
    "].copy()"
   ]
  },
  {
   "cell_type": "code",
   "execution_count": 9,
   "metadata": {},
   "outputs": [
    {
     "name": "stdout",
     "output_type": "stream",
     "text": [
      "Peptide not found: VGSDWRFLRGYHQYA\n",
      "Peptide not found: ETQISKTNTQTYRES\n",
      "Peptide not found: YDGKDYIALKEDLRS\n",
      "Peptide not found: DGKDYIALKEDLRSW\n",
      "Peptide not found: APLLREVAAVRCAVH\n",
      "Peptide not found: ERYIYNREEFVRFDS\n",
      "Peptide not found: TQRKWEAARAAEQQR\n",
      "Peptide not found: YDGKDYIALNEDLSS\n",
      "Peptide not found: EDLRSWTAADMAAQT\n",
      "Peptide not found: KSKFHDLCDFFLVIL\n",
      "Peptide not found: GPLQLRALRQQDLPS\n"
     ]
    }
   ],
   "source": [
    "# the only info I need, for now, is the list of peptides that are hits. From this I'll generate a bunch of\n",
    "# decoys, convert everything into encoded data, and proceed\n",
    "\n",
    "cache_dir = get_data_dir()\n",
    "fm_index_path = os.path.join(cache_dir, 'homo_sapiens_102_with_transcript_id.fm')\n",
    "fm_index = shellinford.FMIndex(filename=fm_index_path)\n",
    "\n",
    "# map each peptide to its transcript\n",
    "peptide_to_doc = defaultdict(list)\n",
    "# how many distinct transcripts are these from?\n",
    "for peptide in use_train_ms_df.peptide:\n",
    "    docs = fm_index.search(peptide)\n",
    "    if not docs:\n",
    "        print('Peptide not found: %s' % peptide)\n",
    "    for doc in docs:\n",
    "        peptide_to_doc[peptide].append(doc)"
   ]
  },
  {
   "cell_type": "code",
   "execution_count": 13,
   "metadata": {},
   "outputs": [
    {
     "name": "stdout",
     "output_type": "stream",
     "text": [
      "Oops accidentally generated the hit: LDRLLDLPAAASSED\n",
      "Oops accidentally generated the hit: LAGEFIRASGVEARQ\n",
      "Oops accidentally generated the hit: HSQVTPLSSQSVVIH\n",
      "Oops accidentally generated the hit: SPNIVIALAGNKADL\n",
      "Oops accidentally generated the hit: KEQEIERLNKLLRQH\n",
      "Oops accidentally generated the hit: IPAILFLPRKRSQAE\n",
      "Oops accidentally generated the hit: LGHPDTLNQGEFKEL\n",
      "Oops accidentally generated the hit: MGEIASFDKAKLKKT\n",
      "Oops accidentally generated the hit: IRLPYTASSGLMAPR\n",
      "Oops accidentally generated the hit: RNRLFQENSVLSSLP\n",
      "Oops accidentally generated the hit: EEFKRYEMLKEHERR\n",
      "Oops accidentally generated the hit: QVLFETEISRKLFDT\n",
      "Oops accidentally generated the hit: SSHICDFIRKTLNAG\n",
      "Oops accidentally generated the hit: NEEGFFSARGHRPLD\n",
      "Oops accidentally generated the hit: IDNKGIDSDASYPYK\n",
      "Oops accidentally generated the hit: RRLSYNTASNKTRLS\n",
      "Oops accidentally generated the hit: NPEPWNKLGPNDQYK\n",
      "Oops accidentally generated the hit: VLYHYVAVNNPKKQE\n",
      "Oops accidentally generated the hit: ITPMMELKPNAGSDR\n"
     ]
    }
   ],
   "source": [
    "# randomly sample n kmers from input text\n",
    "def sample_kmers(k, n, text):\n",
    "    out = []\n",
    "    indices = random.sample(range(len(text) - k + 1), k=n)\n",
    "    for i in indices:\n",
    "        substr = text[i:i+k]\n",
    "        out.append(substr)\n",
    "    return out\n",
    "\n",
    "def generate_decoys(peptide, peptide_to_doc, num_decoys=10):\n",
    "    if peptide not in peptide_to_doc:\n",
    "        return\n",
    "    transcripts = peptide_to_doc[peptide]\n",
    "    if not transcripts:\n",
    "        return\n",
    "    longest_transcript = max(transcripts, key=lambda x: len(x.text))\n",
    "    longest_transcript = longest_transcript.text.split('|')[1]\n",
    "    decoys = sample_kmers(k=len(peptide), n=num_decoys, text=longest_transcript)\n",
    "    for decoy in decoys:\n",
    "        if decoy == peptide:\n",
    "            print('Oops accidentally generated the hit: %s' % peptide)\n",
    "        else:\n",
    "            yield decoy\n",
    "           \n",
    "# make a bunch of decoy peptides\n",
    "decoys = []\n",
    "for hit in use_train_ms_df.peptide:\n",
    "    decoys.extend(generate_decoys(hit, peptide_to_doc))"
   ]
  },
  {
   "cell_type": "code",
   "execution_count": 16,
   "metadata": {},
   "outputs": [],
   "source": [
    "# filter hits and decoys for any selenocysteines (U)\n",
    "new_hits = [x for x in use_train_ms_df.peptide if 'U' not in x]\n",
    "new_decoys = [x for x in decoys if 'U' not in x]\n",
    "\n",
    "train_encoder = EncodableSequences.create(new_hits + new_decoys)\n",
    "train_feature_array = train_encoder.variable_length_to_fixed_length_vector_encoding('BLOSUM62')"
   ]
  },
  {
   "cell_type": "code",
   "execution_count": 18,
   "metadata": {},
   "outputs": [],
   "source": [
    "# since I'm making a logistic regression model, each peptide needs to be flattened to be a single numeric vector.\n",
    "X_train = [x.flatten() for x in train_feature_array]\n",
    "y_train = [1] * len(new_hits) + [0] * len(new_decoys)"
   ]
  },
  {
   "cell_type": "code",
   "execution_count": 22,
   "metadata": {},
   "outputs": [
    {
     "data": {
      "text/html": [
       "<div>\n",
       "<style scoped>\n",
       "    .dataframe tbody tr th:only-of-type {\n",
       "        vertical-align: middle;\n",
       "    }\n",
       "\n",
       "    .dataframe tbody tr th {\n",
       "        vertical-align: top;\n",
       "    }\n",
       "\n",
       "    .dataframe thead th {\n",
       "        text-align: right;\n",
       "    }\n",
       "</style>\n",
       "<table border=\"1\" class=\"dataframe\">\n",
       "  <thead>\n",
       "    <tr style=\"text-align: right;\">\n",
       "      <th></th>\n",
       "      <th>allele</th>\n",
       "      <th>peptide</th>\n",
       "      <th>measurement_value</th>\n",
       "      <th>measurement_inequality</th>\n",
       "      <th>measurement_type</th>\n",
       "      <th>measurement_kind</th>\n",
       "      <th>measurement_source</th>\n",
       "      <th>original_allele</th>\n",
       "    </tr>\n",
       "  </thead>\n",
       "  <tbody>\n",
       "    <tr>\n",
       "      <th>0</th>\n",
       "      <td>BoLA-DRB3*001:01</td>\n",
       "      <td>AYAAQGYKVLVLNPSVAA</td>\n",
       "      <td>1541.0</td>\n",
       "      <td>=</td>\n",
       "      <td>quantitative</td>\n",
       "      <td>affinity</td>\n",
       "      <td>Walker - purified MHC/competitive/radioactivity</td>\n",
       "      <td>BoLA-DRB3*001:01</td>\n",
       "    </tr>\n",
       "    <tr>\n",
       "      <th>1</th>\n",
       "      <td>BoLA-DRB3*001:01</td>\n",
       "      <td>CGKYLFNWAVRTKLKLTPIA</td>\n",
       "      <td>8776.0</td>\n",
       "      <td>=</td>\n",
       "      <td>quantitative</td>\n",
       "      <td>affinity</td>\n",
       "      <td>Walker - purified MHC/competitive/radioactivity</td>\n",
       "      <td>BoLA-DRB3*001:01</td>\n",
       "    </tr>\n",
       "    <tr>\n",
       "      <th>2</th>\n",
       "      <td>BoLA-DRB3*001:01</td>\n",
       "      <td>ENLPYLVAYQATVCARAQAP</td>\n",
       "      <td>36805.0</td>\n",
       "      <td>=</td>\n",
       "      <td>quantitative</td>\n",
       "      <td>affinity</td>\n",
       "      <td>Walker - purified MHC/competitive/radioactivity</td>\n",
       "      <td>BoLA-DRB3*001:01</td>\n",
       "    </tr>\n",
       "    <tr>\n",
       "      <th>3</th>\n",
       "      <td>BoLA-DRB3*001:01</td>\n",
       "      <td>GIQYLAGLSTLPGNPAIASL</td>\n",
       "      <td>100000.0</td>\n",
       "      <td>&gt;</td>\n",
       "      <td>quantitative</td>\n",
       "      <td>affinity</td>\n",
       "      <td>Walker - purified MHC/competitive/radioactivity</td>\n",
       "      <td>BoLA-DRB3*001:01</td>\n",
       "    </tr>\n",
       "    <tr>\n",
       "      <th>4</th>\n",
       "      <td>BoLA-DRB3*001:01</td>\n",
       "      <td>KGGRKPARLIVFPDLGVRVC</td>\n",
       "      <td>3336.0</td>\n",
       "      <td>=</td>\n",
       "      <td>quantitative</td>\n",
       "      <td>affinity</td>\n",
       "      <td>Walker - purified MHC/competitive/radioactivity</td>\n",
       "      <td>BoLA-DRB3*001:01</td>\n",
       "    </tr>\n",
       "  </tbody>\n",
       "</table>\n",
       "</div>"
      ],
      "text/plain": [
       "             allele               peptide  measurement_value  \\\n",
       "0  BoLA-DRB3*001:01    AYAAQGYKVLVLNPSVAA             1541.0   \n",
       "1  BoLA-DRB3*001:01  CGKYLFNWAVRTKLKLTPIA             8776.0   \n",
       "2  BoLA-DRB3*001:01  ENLPYLVAYQATVCARAQAP            36805.0   \n",
       "3  BoLA-DRB3*001:01  GIQYLAGLSTLPGNPAIASL           100000.0   \n",
       "4  BoLA-DRB3*001:01  KGGRKPARLIVFPDLGVRVC             3336.0   \n",
       "\n",
       "  measurement_inequality measurement_type measurement_kind  \\\n",
       "0                      =     quantitative         affinity   \n",
       "1                      =     quantitative         affinity   \n",
       "2                      =     quantitative         affinity   \n",
       "3                      >     quantitative         affinity   \n",
       "4                      =     quantitative         affinity   \n",
       "\n",
       "                                measurement_source   original_allele  \n",
       "0  Walker - purified MHC/competitive/radioactivity  BoLA-DRB3*001:01  \n",
       "1  Walker - purified MHC/competitive/radioactivity  BoLA-DRB3*001:01  \n",
       "2  Walker - purified MHC/competitive/radioactivity  BoLA-DRB3*001:01  \n",
       "3  Walker - purified MHC/competitive/radioactivity  BoLA-DRB3*001:01  \n",
       "4  Walker - purified MHC/competitive/radioactivity  BoLA-DRB3*001:01  "
      ]
     },
     "execution_count": 22,
     "metadata": {},
     "output_type": "execute_result"
    }
   ],
   "source": [
    "# make an evaluation dataset\n",
    "\n",
    "curated_df = pd.read_csv(get_path(\"data_curated\", \"curated_training_data.csv.bz2\"))\n",
    "curated_df.head()"
   ]
  },
  {
   "cell_type": "code",
   "execution_count": 24,
   "metadata": {},
   "outputs": [
    {
     "data": {
      "text/plain": [
       "(7988, 8)"
      ]
     },
     "execution_count": 24,
     "metadata": {},
     "output_type": "execute_result"
    }
   ],
   "source": [
    "new_hits_set = set(new_hits)\n",
    "new_hits_set.update(set(new_decoys))\n",
    "\n",
    "# restrict validation set to 15mers binding DRB0101 that are not in the training data\n",
    "affinity_df = curated_df.loc[\n",
    "    (curated_df.measurement_kind == 'affinity') &\n",
    "    (curated_df.allele == 'HLA-DRB1*01:01') &\n",
    "    (curated_df['peptide'].str.len() == 15) &\n",
    "    (~curated_df.peptide.isin(new_hits_set))\n",
    "]\n",
    "affinity_df.shape"
   ]
  },
  {
   "cell_type": "code",
   "execution_count": 60,
   "metadata": {},
   "outputs": [
    {
     "name": "stderr",
     "output_type": "stream",
     "text": [
      "/Users/julia/miniconda3/envs/deep-learning-nlp/lib/python3.6/site-packages/ipykernel_launcher.py:7: SettingWithCopyWarning: \n",
      "A value is trying to be set on a copy of a slice from a DataFrame.\n",
      "Try using .loc[row_indexer,col_indexer] = value instead\n",
      "\n",
      "See the caveats in the documentation: https://pandas.pydata.org/pandas-docs/stable/user_guide/indexing.html#returning-a-view-versus-a-copy\n",
      "  import sys\n"
     ]
    }
   ],
   "source": [
    "# a row is a hit if it's <500nM\n",
    "def is_hit(row):\n",
    "    sign = row.measurement_inequality\n",
    "    ic50 = row.measurement_value\n",
    "    return sign in ['=', '<'] and ic50 < 500\n",
    "\n",
    "affinity_df['hit'] = affinity_df.apply(is_hit, axis=1)"
   ]
  },
  {
   "cell_type": "code",
   "execution_count": 61,
   "metadata": {},
   "outputs": [],
   "source": [
    "test_encoder = EncodableSequences.create(affinity_df.peptide)\n",
    "test_feature_array = test_encoder.variable_length_to_fixed_length_vector_encoding('BLOSUM62')\n",
    "X_test = [x.flatten() for x in test_feature_array]\n",
    "y_test = affinity_df.hit"
   ]
  },
  {
   "cell_type": "code",
   "execution_count": 103,
   "metadata": {},
   "outputs": [],
   "source": [
    "def run_model(model):\n",
    "    print('Fitting...')\n",
    "    model.fit(X_train, y_train)\n",
    "    print('Done.')\n",
    "    y_pred = model.predict_proba(X_test)\n",
    "    return metrics.roc_auc_score(y_test, [x[1] for x in y_pred])"
   ]
  },
  {
   "cell_type": "code",
   "execution_count": 104,
   "metadata": {},
   "outputs": [
    {
     "name": "stdout",
     "output_type": "stream",
     "text": [
      "Fitting...\n"
     ]
    },
    {
     "name": "stderr",
     "output_type": "stream",
     "text": [
      "/Users/julia/miniconda3/envs/deep-learning-nlp/lib/python3.6/site-packages/sklearn/linear_model/logistic.py:433: FutureWarning: Default solver will be changed to 'lbfgs' in 0.22. Specify a solver to silence this warning.\n",
      "  FutureWarning)\n"
     ]
    },
    {
     "name": "stdout",
     "output_type": "stream",
     "text": [
      "Done.\n"
     ]
    },
    {
     "data": {
      "text/plain": [
       "0.6006645890584387"
      ]
     },
     "execution_count": 104,
     "metadata": {},
     "output_type": "execute_result"
    }
   ],
   "source": [
    "# try logistic regression model first\n",
    "logreg = LogisticRegression(class_weight='balanced', max_iter=500)\n",
    "run_model(logreg)"
   ]
  },
  {
   "cell_type": "code",
   "execution_count": 108,
   "metadata": {},
   "outputs": [
    {
     "name": "stdout",
     "output_type": "stream",
     "text": [
      "Fitting...\n",
      "[LibSVM]Done.\n"
     ]
    },
    {
     "data": {
      "text/plain": [
       "0.5852566587653657"
      ]
     },
     "execution_count": 108,
     "metadata": {},
     "output_type": "execute_result"
    }
   ],
   "source": [
    "clf = svm.SVC(kernel='linear', C=0.025, verbose=True, probability=True)\n",
    "run_model(clf)"
   ]
  },
  {
   "cell_type": "code",
   "execution_count": 106,
   "metadata": {},
   "outputs": [
    {
     "name": "stdout",
     "output_type": "stream",
     "text": [
      "Fitting...\n"
     ]
    },
    {
     "name": "stderr",
     "output_type": "stream",
     "text": [
      "[Parallel(n_jobs=1)]: Using backend SequentialBackend with 1 concurrent workers.\n"
     ]
    },
    {
     "name": "stdout",
     "output_type": "stream",
     "text": [
      "Done.\n"
     ]
    },
    {
     "name": "stderr",
     "output_type": "stream",
     "text": [
      "[Parallel(n_jobs=1)]: Done  30 out of  30 | elapsed:    4.2s finished\n",
      "[Parallel(n_jobs=1)]: Using backend SequentialBackend with 1 concurrent workers.\n",
      "[Parallel(n_jobs=1)]: Done  30 out of  30 | elapsed:    0.1s finished\n"
     ]
    },
    {
     "data": {
      "text/plain": [
       "0.6294617912254074"
      ]
     },
     "execution_count": 106,
     "metadata": {},
     "output_type": "execute_result"
    }
   ],
   "source": [
    "from sklearn.ensemble import RandomForestClassifier\n",
    "clf = RandomForestClassifier(max_depth=10, n_estimators=30, max_features=100, verbose=True)\n",
    "run_model(clf)"
   ]
  },
  {
   "cell_type": "code",
   "execution_count": 111,
   "metadata": {},
   "outputs": [
    {
     "name": "stdout",
     "output_type": "stream",
     "text": [
      "Fitting...\n"
     ]
    },
    {
     "name": "stderr",
     "output_type": "stream",
     "text": [
      "/Users/julia/miniconda3/envs/deep-learning-nlp/lib/python3.6/site-packages/sklearn/linear_model/logistic.py:433: FutureWarning: Default solver will be changed to 'lbfgs' in 0.22. Specify a solver to silence this warning.\n",
      "  FutureWarning)\n"
     ]
    },
    {
     "name": "stdout",
     "output_type": "stream",
     "text": [
      "Done.\n"
     ]
    },
    {
     "data": {
      "text/plain": [
       "0.6004259049183096"
      ]
     },
     "execution_count": 111,
     "metadata": {},
     "output_type": "execute_result"
    }
   ],
   "source": [
    "# weighted classes in logistic regression\n",
    "logreg = LogisticRegression(class_weight={0: 1, 1: 10})\n",
    "run_model(logreg)"
   ]
  },
  {
   "cell_type": "code",
   "execution_count": 71,
   "metadata": {},
   "outputs": [
    {
     "name": "stdout",
     "output_type": "stream",
     "text": [
      "2020-12-30 16:21:29,379 - mhctools.netmhcii_pan - INFO - Using NetMHCIIpan 4.0\n",
      "2020-12-30 16:21:29,648 - mhctools.base_commandline_predictor - INFO - Skipping allele DRB5_0108N: The suffix 'N' of 'DRB5*0108N' was not parsed\n",
      "2020-12-30 16:21:30,246 - mhctools.base_commandline_predictor - INFO - Skipping allele BoLA-DRA-DRB30101\tBoLA-DRA-DRB30101: Allele has too many parts: DRA-DRB30101\tBoLA-DRA-DRB30101\n",
      "2020-12-30 16:21:30,250 - mhctools.base_commandline_predictor - INFO - Skipping allele BoLA-DRA-DRB31101\tBoLA-DRA-DRB31101: Allele has too many parts: DRA-DRB31101\tBoLA-DRA-DRB31101\n",
      "2020-12-30 16:21:30,253 - mhctools.base_commandline_predictor - INFO - Skipping allele BoLA-DRA-DRB31501\tBoLA-DRA-DRB31501: Allele has too many parts: DRA-DRB31501\tBoLA-DRA-DRB31501\n"
     ]
    }
   ],
   "source": [
    "alleles = [normalize_allele_name(\"HLA-DRB1*01:01\")]\n",
    "predictor = NetMHCIIpan(alleles=alleles, default_peptide_lengths=[15])"
   ]
  },
  {
   "cell_type": "code",
   "execution_count": 77,
   "metadata": {},
   "outputs": [
    {
     "data": {
      "text/plain": [
       "list"
      ]
     },
     "execution_count": 77,
     "metadata": {},
     "output_type": "execute_result"
    }
   ],
   "source": [
    "training_peptides = new_hits + new_decoys\n",
    "type(training_peptides)"
   ]
  },
  {
   "cell_type": "code",
   "execution_count": 78,
   "metadata": {},
   "outputs": [
    {
     "name": "stdout",
     "output_type": "stream",
     "text": [
      "2020-12-30 16:25:14,947 - mhctools.process_helpers - INFO - Ran 1 commands in 98.3112 seconds\n"
     ]
    }
   ],
   "source": [
    "netmhciipan_results = predictor.predict_subsequences(training_peptides)"
   ]
  },
  {
   "cell_type": "code",
   "execution_count": 80,
   "metadata": {},
   "outputs": [
    {
     "name": "stdout",
     "output_type": "stream",
     "text": [
      "2020-12-30 16:27:15,659 - mhctools.process_helpers - INFO - Ran 1 commands in 67.2750 seconds\n"
     ]
    }
   ],
   "source": [
    "netmhciipan_test_results = predictor.predict_subsequences(affinity_df.peptide)"
   ]
  },
  {
   "cell_type": "code",
   "execution_count": 81,
   "metadata": {},
   "outputs": [
    {
     "data": {
      "text/plain": [
       "198287    AAAAGWQTLSAALDA\n",
       "198293    AAAGAEAGKATTEEQ\n",
       "198295    AAAGLAAAAPLESRQ\n",
       "198296    AAAGLAAAAPLESRQ\n",
       "198303    AAALHNVKCKTPTQL\n",
       "198306    AAASVPAADKFKTFE\n",
       "198307    AAATATATAAVGAAT\n",
       "198311    AAAYFVGYLKPTTFM\n",
       "198313    AADHAAPEDKYEAFV\n",
       "198314    AADHCPVVEVNGVTI\n",
       "Name: peptide, dtype: object"
      ]
     },
     "execution_count": 81,
     "metadata": {},
     "output_type": "execute_result"
    }
   ],
   "source": [
    "# convert results to a vector of bools representing hits\n",
    "affinity_df.peptide[:10]"
   ]
  },
  {
   "cell_type": "code",
   "execution_count": 112,
   "metadata": {},
   "outputs": [
    {
     "data": {
      "text/plain": [
       "0.7121903078646317"
      ]
     },
     "execution_count": 112,
     "metadata": {},
     "output_type": "execute_result"
    }
   ],
   "source": [
    "y_pred = [-1 * x.percentile_rank for x in netmhciipan_test_results]\n",
    "metrics.roc_auc_score(y_test, y_pred)"
   ]
  },
  {
   "cell_type": "code",
   "execution_count": 114,
   "metadata": {},
   "outputs": [
    {
     "name": "stdout",
     "output_type": "stream",
     "text": [
      "2020-12-30 17:02:14,267 - mhctools.base_commandline_predictor - INFO - Skipping allele DRB5_0108N: The suffix 'N' of 'DRB5*0108N' was not parsed\n",
      "2020-12-30 17:02:14,276 - mhctools.base_commandline_predictor - INFO - Skipping allele BoLA-DRA-DRB30101\tBoLA-DRA-DRB30101: Allele has too many parts: DRA-DRB30101\tBoLA-DRA-DRB30101\n",
      "2020-12-30 17:02:14,278 - mhctools.base_commandline_predictor - INFO - Skipping allele BoLA-DRA-DRB31101\tBoLA-DRA-DRB31101: Allele has too many parts: DRA-DRB31101\tBoLA-DRA-DRB31101\n",
      "2020-12-30 17:02:14,281 - mhctools.base_commandline_predictor - INFO - Skipping allele BoLA-DRA-DRB31501\tBoLA-DRA-DRB31501: Allele has too many parts: DRA-DRB31501\tBoLA-DRA-DRB31501\n",
      "2020-12-30 17:03:26,879 - mhctools.process_helpers - INFO - Ran 1 commands in 72.4326 seconds\n"
     ]
    }
   ],
   "source": [
    "alleles = [normalize_allele_name(\"HLA-DRB1*01:01\")]\n",
    "ba_predictor = NetMHCIIpan4_BA(alleles=alleles, default_peptide_lengths=[15])\n",
    "netmhciipan_ba_test_results = ba_predictor.predict_subsequences(affinity_df.peptide)"
   ]
  },
  {
   "cell_type": "code",
   "execution_count": 115,
   "metadata": {},
   "outputs": [
    {
     "data": {
      "text/plain": [
       "0.8484445833649243"
      ]
     },
     "execution_count": 115,
     "metadata": {},
     "output_type": "execute_result"
    }
   ],
   "source": [
    "y_pred = [-1 * x.affinity for x in netmhciipan_ba_test_results]\n",
    "metrics.roc_auc_score(y_test, y_pred)"
   ]
  },
  {
   "cell_type": "markdown",
   "metadata": {},
   "source": [
    "# Try to make a CNN"
   ]
  },
  {
   "cell_type": "code",
   "execution_count": 235,
   "metadata": {},
   "outputs": [],
   "source": [
    "import tensorflow as tf\n",
    "\n",
    "from tensorflow.keras import datasets, layers, models\n",
    "from tensorflow.keras.callbacks import EarlyStopping"
   ]
  },
  {
   "cell_type": "code",
   "execution_count": 270,
   "metadata": {},
   "outputs": [
    {
     "name": "stdout",
     "output_type": "stream",
     "text": [
      "Model: \"sequential_69\"\n",
      "_________________________________________________________________\n",
      "Layer (type)                 Output Shape              Param #   \n",
      "=================================================================\n",
      "conv1d_95 (Conv1D)           (None, 13, 32)            2048      \n",
      "_________________________________________________________________\n",
      "conv1d_96 (Conv1D)           (None, 11, 32)            3104      \n",
      "_________________________________________________________________\n",
      "max_pooling1d_10 (MaxPooling (None, 5, 32)             0         \n",
      "_________________________________________________________________\n",
      "conv1d_97 (Conv1D)           (None, 3, 64)             6208      \n",
      "_________________________________________________________________\n",
      "conv1d_98 (Conv1D)           (None, 1, 64)             12352     \n",
      "_________________________________________________________________\n",
      "global_average_pooling1d_1 ( (None, 64)                0         \n",
      "_________________________________________________________________\n",
      "flatten_56 (Flatten)         (None, 64)                0         \n",
      "_________________________________________________________________\n",
      "dense_61 (Dense)             (None, 1)                 65        \n",
      "=================================================================\n",
      "Total params: 23,777\n",
      "Trainable params: 23,777\n",
      "Non-trainable params: 0\n",
      "_________________________________________________________________\n",
      "None\n",
      "Epoch 1/1000\n",
      "179/179 [==============================] - 1s 8ms/step - loss: 0.2579 - accuracy: 0.9081 - val_loss: 2.1663 - val_accuracy: 0.3311\n",
      "Epoch 2/1000\n",
      "179/179 [==============================] - 1s 5ms/step - loss: 0.2088 - accuracy: 0.9200 - val_loss: 2.3510 - val_accuracy: 0.3344\n",
      "Epoch 3/1000\n",
      "179/179 [==============================] - 1s 5ms/step - loss: 0.1919 - accuracy: 0.9272 - val_loss: 2.5652 - val_accuracy: 0.3401\n",
      "Epoch 4/1000\n",
      "179/179 [==============================] - 1s 6ms/step - loss: 0.1706 - accuracy: 0.9339 - val_loss: 2.4325 - val_accuracy: 0.3554\n",
      "Epoch 5/1000\n",
      "179/179 [==============================] - 1s 6ms/step - loss: 0.1605 - accuracy: 0.9387 - val_loss: 2.6621 - val_accuracy: 0.3449\n",
      "Epoch 6/1000\n",
      "179/179 [==============================] - 1s 6ms/step - loss: 0.1420 - accuracy: 0.9459 - val_loss: 3.0480 - val_accuracy: 0.3632\n",
      "Epoch 7/1000\n",
      "179/179 [==============================] - 1s 5ms/step - loss: 0.1277 - accuracy: 0.9510 - val_loss: 2.9220 - val_accuracy: 0.3567\n",
      "Epoch 8/1000\n",
      "179/179 [==============================] - 1s 5ms/step - loss: 0.1162 - accuracy: 0.9554 - val_loss: 3.1878 - val_accuracy: 0.3518\n",
      "Epoch 9/1000\n",
      "179/179 [==============================] - 1s 6ms/step - loss: 0.0939 - accuracy: 0.9668 - val_loss: 3.8511 - val_accuracy: 0.3480\n",
      "Epoch 10/1000\n",
      "179/179 [==============================] - 1s 6ms/step - loss: 0.0834 - accuracy: 0.9712 - val_loss: 4.3327 - val_accuracy: 0.3502\n",
      "Epoch 11/1000\n",
      "179/179 [==============================] - 1s 6ms/step - loss: 0.0706 - accuracy: 0.9723 - val_loss: 4.7769 - val_accuracy: 0.3490\n"
     ]
    },
    {
     "data": {
      "text/plain": [
       "0.6294631144668196"
      ]
     },
     "execution_count": 270,
     "metadata": {},
     "output_type": "execute_result"
    }
   ],
   "source": [
    "model = models.Sequential()\n",
    "model.add(layers.Conv1D(filters=32, kernel_size=3, activation='relu', input_shape=(15, 21)))\n",
    "model.add(layers.Conv1D(filters=32, kernel_size=3, activation='relu'))\n",
    "model.add(layers.MaxPooling1D())\n",
    "model.add(layers.Conv1D(filters=64, kernel_size=3, activation='relu'))\n",
    "model.add(layers.Conv1D(filters=64, kernel_size=3, activation='relu'))\n",
    "model.add(layers.GlobalAveragePooling1D())\n",
    "model.add(layers.Flatten())\n",
    "model.add(layers.Dense(1, activation='sigmoid'))\n",
    "print(model.summary())\n",
    "\n",
    "model.compile(optimizer='adam',\n",
    "              loss='binary_crossentropy',\n",
    "              metrics=['accuracy'])\n",
    "\n",
    "X_train = train_feature_array.copy()\n",
    "y_train = np.array([1] * len(new_hits) + [0] * len(new_decoys))\n",
    "\n",
    "X_test = test_feature_array.copy()\n",
    "y_test = np.array(affinity_df.hit)\n",
    "\n",
    "es = EarlyStopping(patience=10)\n",
    "history = model.fit(X_train, y_train, epochs=1000, batch_size=50,\n",
    "                    validation_data=(X_test, y_test), callbacks=[es])\n",
    "\n",
    "out = model.predict(X_test)\n",
    "metrics.roc_auc_score(y_test, out)"
   ]
  },
  {
   "cell_type": "code",
   "execution_count": 249,
   "metadata": {},
   "outputs": [
    {
     "data": {
      "text/plain": [
       "0.6226768887661811"
      ]
     },
     "execution_count": 249,
     "metadata": {},
     "output_type": "execute_result"
    }
   ],
   "source": []
  }
 ],
 "metadata": {
  "kernelspec": {
   "display_name": "Python 3",
   "language": "python",
   "name": "python3"
  },
  "language_info": {
   "codemirror_mode": {
    "name": "ipython",
    "version": 3
   },
   "file_extension": ".py",
   "mimetype": "text/x-python",
   "name": "python",
   "nbconvert_exporter": "python",
   "pygments_lexer": "ipython3",
   "version": "3.6.7"
  }
 },
 "nbformat": 4,
 "nbformat_minor": 2
}
