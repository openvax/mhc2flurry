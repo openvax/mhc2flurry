{
 "cells": [
  {
   "cell_type": "code",
   "execution_count": null,
   "metadata": {},
   "outputs": [],
   "source": [
    "import numpy\n",
    "import pandas\n",
    "import seaborn\n",
    "import logging\n",
    "import time\n",
    "import collections\n",
    "import os\n",
    "from os import environ\n",
    "from matplotlib import pyplot\n",
    "\n",
    "import sklearn\n",
    "import sklearn.pipeline\n",
    "import sklearn.preprocessing\n",
    "import sklearn.linear_model\n",
    "\n",
    "from six import string_types\n",
    "\n",
    "import mhcflurry\n",
    "import mhcnames\n",
    "\n",
    "%matplotlib inline\n",
    "logging.basicConfig(level=\"DEBUG\")\n",
    "\n",
    "pandas.set_option('display.max_columns', 60)\n",
    "\n",
    "from mhc2flurry.downloads import get_path\n",
    "from mhcflurry.common import random_peptides\n",
    "import mhc2flurry\n",
    "\n",
    "from copy import deepcopy\n",
    "from mhcflurry.regression_target import from_ic50, to_ic50\n",
    "import shutil\n",
    "from Bio import SeqIO\n",
    "import bz2\n",
    "\n",
    "import tensorflow as tf\n",
    "#config = tf.ConfigProto(allow_soft_placement=True, log_device_placement=True)\n",
    "#session = tf.Session(config=config)\n",
    "#K.set_session(session)\n",
    "\n",
    "def ppv(y_true, predictions):\n",
    "    df = pandas.DataFrame({\"prediction\": predictions, \"y_true\": y_true})\n",
    "    return df.sort_values(\"prediction\", ascending=False)[:int(y_true.sum())].y_true.mean()\n",
    "\n",
    "import Bio.SeqIO\n",
    "import traceback\n",
    "from gzip import GzipFile\n",
    "import Bio\n",
    "import Bio.SeqUtils\n",
    "from glob import glob\n",
    "import json\n",
    "from scipy.stats import pearsonr\n",
    "\n",
    "import tqdm\n",
    "\n",
    "from notebook.services.config import ConfigManager\n",
    "c = ConfigManager()\n",
    "c.update('notebook', {\"CodeCell\": {\"cm_config\": {\"autoCloseBrackets\": False}}})\n",
    "\n",
    "import mhcgnomes\n",
    "\n",
    "import mhc2flurry.allele_encoding_pair\n",
    "import mhc2flurry.allele_encoding"
   ]
  },
  {
   "cell_type": "code",
   "execution_count": null,
   "metadata": {},
   "outputs": [],
   "source": [
    "!ls \"$(mhc2flurry-downloads path data_curated)\""
   ]
  },
  {
   "cell_type": "code",
   "execution_count": null,
   "metadata": {},
   "outputs": [],
   "source": [
    "train_df = pandas.read_csv(get_path(\"data_curated\", \"curated_training_data.csv.bz2\"))\n",
    "train_df"
   ]
  },
  {
   "cell_type": "code",
   "execution_count": null,
   "metadata": {},
   "outputs": [],
   "source": [
    "train_ms_df = pandas.read_csv(get_path(\"data_curated\", \"ms.by_pmid.csv.bz2\"))\n",
    "train_ms_df = train_ms_df.loc[\n",
    "    train_ms_df.mhc_class == \"II\"\n",
    "]\n",
    "train_ms_df"
   ]
  },
  {
   "cell_type": "code",
   "execution_count": null,
   "metadata": {},
   "outputs": [],
   "source": [
    "affinity_df = train_df.loc[\n",
    "    (~train_df.peptide.isin(train_ms_df.peptide)) &\n",
    "    (train_df.measurement_kind == \"affinity\")\n",
    "]\n",
    "affinity_df"
   ]
  },
  {
   "cell_type": "code",
   "execution_count": null,
   "metadata": {},
   "outputs": [],
   "source": [
    "allele_sequences_alpha = pandas.read_csv(\n",
    "    get_path(\"allele_sequences\", \"alpha.csv\"), index_col=0)\n",
    "allele_sequences_alpha = pandas.Series([\n",
    "    \"\".join(row)\n",
    "    for (allele, row) in allele_sequences_alpha.iterrows()\n",
    "], index=allele_sequences_alpha.index)\n",
    "allele_sequences_alpha\n",
    "\n",
    "allele_sequences_beta = pandas.read_csv(\n",
    "    get_path(\"allele_sequences\", \"beta.csv\"), index_col=0)\n",
    "allele_sequences_beta = pandas.Series([\n",
    "    \"\".join(row)\n",
    "    for (allele, row) in allele_sequences_beta.iterrows()\n",
    "], index=allele_sequences_beta.index)\n",
    "allele_sequences_beta"
   ]
  },
  {
   "cell_type": "code",
   "execution_count": null,
   "metadata": {},
   "outputs": [],
   "source": [
    "mhcgnomes.parse(\"Patr-DRB1*03:08\", infer_class2_pairing=True)"
   ]
  },
  {
   "cell_type": "code",
   "execution_count": null,
   "metadata": {},
   "outputs": [],
   "source": [
    "mhcgnomes.parse(\"HLA-DRB1*03:08\", infer_class2_pairing=True)"
   ]
  },
  {
   "cell_type": "code",
   "execution_count": null,
   "metadata": {},
   "outputs": [],
   "source": [
    "train_df.loc[\n",
    "    ~train_df.peptide.isin(train_ms_df.peptide)\n",
    "]"
   ]
  },
  {
   "cell_type": "code",
   "execution_count": null,
   "metadata": {},
   "outputs": [],
   "source": []
  },
  {
   "cell_type": "code",
   "execution_count": null,
   "metadata": {},
   "outputs": [],
   "source": [
    "train_df[\"parsed_allele\"] = train_df.allele.map(lambda s: mhcgnomes.parse(s, infer_class2_pairing=True))\n",
    "train_df"
   ]
  },
  {
   "cell_type": "code",
   "execution_count": null,
   "metadata": {},
   "outputs": [],
   "source": [
    "use_train_df = train_df.loc[train_df.parsed_allele.map(lambda p: isinstance(p, mhcgnomes.Class2Pair))].copy()\n",
    "use_train_df[\"alpha_allele\"] = use_train_df.parsed_allele.map(lambda p: p.alpha.to_string())\n",
    "use_train_df[\"beta_allele\"] = use_train_df.parsed_allele.map(lambda p: p.beta.to_string())\n",
    "\n",
    "use_train_df = use_train_df.loc[\n",
    "    (use_train_df.alpha_allele.isin(allele_sequences_alpha.index)) &\n",
    "    (use_train_df.beta_allele.isin(allele_sequences_beta.index))\n",
    "].copy()\n",
    "\n",
    "use_train_df = use_train_df.loc[\n",
    "    (use_train_df.measurement_kind == \"affinity\")\n",
    "].copy()\n",
    "use_train_df[\"allele\"] = use_train_df.allele.map(lambda s: mhcgnomes.parse(s, infer_class2_pairing=True).to_string())\n",
    "use_train_df"
   ]
  },
  {
   "cell_type": "code",
   "execution_count": null,
   "metadata": {},
   "outputs": [],
   "source": [
    "use_train_df.allele.value_counts()"
   ]
  },
  {
   "cell_type": "code",
   "execution_count": null,
   "metadata": {},
   "outputs": [],
   "source": [
    "validation_df = train_ms_df.loc[\n",
    "    (train_ms_df.format == \"MONOALLELIC\") &\n",
    "    (~train_ms_df.peptide.isin(use_train_df.peptide))\n",
    "].copy()\n",
    "validation_df[\"parsed_allele\"] = validation_df.hla.map(lambda s: mhcgnomes.parse(s, infer_class2_pairing=True))\n",
    "\n",
    "validation_df = validation_df.loc[validation_df.parsed_allele.map(lambda p: isinstance(p, mhcgnomes.Class2Pair))].copy()\n",
    "validation_df[\"alpha_allele\"] = validation_df.parsed_allele.map(lambda p: p.alpha.to_string())\n",
    "validation_df[\"beta_allele\"] = validation_df.parsed_allele.map(lambda p: p.beta.to_string())\n",
    "\n",
    "validation_df"
   ]
  },
  {
   "cell_type": "code",
   "execution_count": null,
   "metadata": {},
   "outputs": [],
   "source": [
    "validation_df.hla.value_counts()"
   ]
  },
  {
   "cell_type": "code",
   "execution_count": null,
   "metadata": {},
   "outputs": [],
   "source": [
    "allele = \"HLA-DRA*01:01-DRB1*01:01\"\n",
    "validation_df.loc[validation_df.hla == allele].shape, use_train_df.loc[use_train_df.allele == allele].shape"
   ]
  },
  {
   "cell_type": "code",
   "execution_count": null,
   "metadata": {},
   "outputs": [],
   "source": [
    "allele_sequences_alpha.to_dict()"
   ]
  },
  {
   "cell_type": "code",
   "execution_count": null,
   "metadata": {},
   "outputs": [],
   "source": [
    "import mhc2flurry.allele_encoding_pair\n",
    "import mhc2flurry.allele_encoding\n",
    "\n",
    "allele_encoding_pair = mhc2flurry.allele_encoding_pair.AlleleEncodingPair(\n",
    "    mhc2flurry.allele_encoding.AlleleEncoding(\n",
    "        use_train_df.alpha_allele.values,\n",
    "        allele_to_sequence=allele_sequences_alpha.to_dict()),\n",
    "    mhc2flurry.allele_encoding.AlleleEncoding(\n",
    "        use_train_df.beta_allele.values,\n",
    "        allele_to_sequence=allele_sequences_beta.to_dict()))\n",
    "allele_encoding_pair"
   ]
  },
  {
   "cell_type": "code",
   "execution_count": null,
   "metadata": {
    "scrolled": false
   },
   "outputs": [],
   "source": [
    "import imp\n",
    "import mhc2flurry.condconv\n",
    "imp.reload(mhc2flurry.condconv)\n",
    "\n",
    "import mhc2flurry.class2_neural_network\n",
    "imp.reload(mhc2flurry.class2_neural_network)\n",
    "import mhc2flurry.class2_neural_network\n",
    "\n",
    "\n",
    "model = mhc2flurry.class2_neural_network.Class2NeuralNetwork(\n",
    "    random_negative_rate=1.0,\n",
    "    layer_sizes=[8],\n",
    "    patience=5,\n",
    "    peptide_convolutions=[\n",
    "        {'kernel_size': 9, 'filters': 64, 'activation': \"relu\"},\n",
    "        {'kernel_size': 1, 'filters': 16, 'activation': \"relu\"},\n",
    "        {'kernel_size': 16, 'filters': 16, 'activation': \"relu\"},\n",
    "    ],\n",
    ")\n",
    "print(model.hyperparameters)\n",
    "\n",
    "model.fit(\n",
    "    use_train_df.peptide.values,\n",
    "    affinities=use_train_df[\"measurement_value\"].values,\n",
    "    inequalities=use_train_df[\"measurement_inequality\"].values,\n",
    "    allele_encoding_pair=allele_encoding_pair\n",
    ")"
   ]
  },
  {
   "cell_type": "code",
   "execution_count": null,
   "metadata": {},
   "outputs": [],
   "source": [
    "validation_allele_encoding_pair = mhc2flurry.allele_encoding_pair.AlleleEncodingPair(\n",
    "    mhc2flurry.allele_encoding.AlleleEncoding(\n",
    "        validation_df.alpha_allele.values,\n",
    "        allele_to_sequence=allele_sequences_alpha.to_dict()),\n",
    "    mhc2flurry.allele_encoding.AlleleEncoding(\n",
    "        validation_df.beta_allele.values,\n",
    "        allele_to_sequence=allele_sequences_beta.to_dict()))\n",
    "\n",
    "validation_df[\"prediction\"] = model.predict(\n",
    "    validation_df.peptide.values,\n",
    "    allele_encoding_pair=validation_allele_encoding_pair)\n",
    "validation_df"
   ]
  },
  {
   "cell_type": "code",
   "execution_count": null,
   "metadata": {},
   "outputs": [],
   "source": [
    "scores_df = []\n",
    "to_score = validation_df.copy()\n",
    "for allele, sub_validation_df in validation_df.groupby(\"hla\"):\n",
    "    to_score[\"hit\"] = 0\n",
    "    to_score.loc[sub_validation_df.index, \"hit\"] = 1\n",
    "    scores_df.append((\n",
    "        allele,\n",
    "        sklearn.metrics.roc_auc_score(to_score.hit, -1 * to_score.prediction),\n",
    "    ))\n",
    "\n",
    "scores_df = pandas.DataFrame(scores_df, columns=[\"allele\", \"auc\"])\n",
    "scores_df = scores_df.sort_values(\"auc\")\n",
    "\n",
    "seaborn.barplot(data=scores_df, y=\"allele\", x=\"auc\", color='black')\n",
    "#pyplot.xlim(xmin=0.5)\n",
    "pyplot.ylabel(\"Allele\")\n",
    "seaborn.despine()\n",
    "scores_df"
   ]
  },
  {
   "cell_type": "code",
   "execution_count": null,
   "metadata": {},
   "outputs": [],
   "source": [
    "#!pip install --upgrade tensorflow"
   ]
  }
 ],
 "metadata": {
  "kernelspec": {
   "display_name": "Python 3",
   "language": "python",
   "name": "python3"
  },
  "language_info": {
   "codemirror_mode": {
    "name": "ipython",
    "version": 3
   },
   "file_extension": ".py",
   "mimetype": "text/x-python",
   "name": "python",
   "nbconvert_exporter": "python",
   "pygments_lexer": "ipython3",
   "version": "3.8.3"
  }
 },
 "nbformat": 4,
 "nbformat_minor": 4
}
